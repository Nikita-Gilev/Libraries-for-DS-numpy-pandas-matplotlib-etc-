{
  "cells": [
    {
      "cell_type": "markdown",
      "metadata": {
        "id": "HIIsLLhFowhI"
      },
      "source": [
        "### Задание 1\n"
      ]
    },
    {
      "cell_type": "code",
      "execution_count": 1,
      "metadata": {
        "id": "Nl3VsT2jowhK"
      },
      "outputs": [],
      "source": [
        "import matplotlib.pyplot as plt\n",
        "import numpy as np\n",
        "\n",
        "%matplotlib inline"
      ]
    },
    {
      "cell_type": "code",
      "execution_count": 2,
      "metadata": {
        "scrolled": true,
        "id": "pMwUM7j9owhL",
        "outputId": "95584f2e-d8ea-47f1-d1b3-cc0bac7e8005",
        "colab": {
          "base_uri": "https://localhost:8080/",
          "height": 265
        }
      },
      "outputs": [
        {
          "output_type": "display_data",
          "data": {
            "image/png": "[encoded data removed]",
            "text/plain": [
              "<Figure size 432x288 with 1 Axes>"
            ]
          },
          "metadata": {
            "needs_background": "light"
          }
        }
      ],
      "source": [
        "x = [1, 2, 3, 4, 5, 6, 7]\n",
        "y = [3.5, 3.8, 4.2, 4.5, 5, 5.5, 7]\n",
        "plt.plot(x,y)\n",
        "plt.show()"
      ]
    },
    {
      "cell_type": "code",
      "execution_count": 3,
      "metadata": {
        "id": "cmK-nQ54owhL",
        "outputId": "fba171fa-aef7-48f2-c902-f4a63989ab5d",
        "colab": {
          "base_uri": "https://localhost:8080/",
          "height": 265
        }
      },
      "outputs": [
        {
          "output_type": "display_data",
          "data": {
            "image/png": "[encoded data removed]",
            "text/plain": [
              "<Figure size 432x288 with 1 Axes>"
            ]
          },
          "metadata": {
            "needs_background": "light"
          }
        }
      ],
      "source": [
        "plt.scatter(x,y)\n",
        "plt.show()"
      ]
    },
    {
      "cell_type": "markdown",
      "metadata": {
        "id": "XDYFHE-FowhL"
      },
      "source": [
        "### Задание 2\n"
      ]
    },
    {
      "cell_type": "code",
      "execution_count": 4,
      "metadata": {
        "id": "AW9MtDN5owhM",
        "outputId": "2e38694c-7d27-49b2-aaa1-f573193111b6",
        "colab": {
          "base_uri": "https://localhost:8080/"
        }
      },
      "outputs": [
        {
          "output_type": "execute_result",
          "data": {
            "text/plain": [
              "array([ 0. ,  0.2,  0.4,  0.6,  0.8,  1. ,  1.2,  1.4,  1.6,  1.8,  2. ,\n",
              "        2.2,  2.4,  2.6,  2.8,  3. ,  3.2,  3.4,  3.6,  3.8,  4. ,  4.2,\n",
              "        4.4,  4.6,  4.8,  5. ,  5.2,  5.4,  5.6,  5.8,  6. ,  6.2,  6.4,\n",
              "        6.6,  6.8,  7. ,  7.2,  7.4,  7.6,  7.8,  8. ,  8.2,  8.4,  8.6,\n",
              "        8.8,  9. ,  9.2,  9.4,  9.6,  9.8, 10. ])"
            ]
          },
          "metadata": {},
          "execution_count": 4
        }
      ],
      "source": [
        "t = np.linspace(0,10,51)\n",
        "t"
      ]
    },
    {
      "cell_type": "code",
      "execution_count": 5,
      "metadata": {
        "id": "4iA6rSKSowhM",
        "outputId": "e0b3cb62-4c03-47be-a80a-a67611eb506d",
        "colab": {
          "base_uri": "https://localhost:8080/"
        }
      },
      "outputs": [
        {
          "output_type": "execute_result",
          "data": {
            "text/plain": [
              "array([ 1.        ,  0.98006658,  0.92106099,  0.82533561,  0.69670671,\n",
              "        0.54030231,  0.36235775,  0.16996714, -0.02919952, -0.22720209,\n",
              "       -0.41614684, -0.58850112, -0.73739372, -0.85688875, -0.94222234,\n",
              "       -0.9899925 , -0.99829478, -0.96679819, -0.89675842, -0.79096771,\n",
              "       -0.65364362, -0.49026082, -0.30733287, -0.11215253,  0.08749898,\n",
              "        0.28366219,  0.46851667,  0.63469288,  0.77556588,  0.88551952,\n",
              "        0.96017029,  0.9965421 ,  0.99318492,  0.95023259,  0.86939749,\n",
              "        0.75390225,  0.60835131,  0.43854733,  0.25125984,  0.05395542,\n",
              "       -0.14550003, -0.33915486, -0.51928865, -0.67872005, -0.81109301,\n",
              "       -0.91113026, -0.97484362, -0.99969304, -0.98468786, -0.93042627,\n",
              "       -0.83907153])"
            ]
          },
          "metadata": {},
          "execution_count": 5
        }
      ],
      "source": [
        "f = np.cos(t)\n",
        "f"
      ]
    },
    {
      "cell_type": "code",
      "execution_count": 11,
      "metadata": {
        "id": "KQdnVHKoowhM",
        "outputId": "9de2c2a7-91d3-4440-b4aa-b34fcca4d6dd",
        "colab": {
          "base_uri": "https://localhost:8080/",
          "height": 295
        }
      },
      "outputs": [
        {
          "output_type": "display_data",
          "data": {
            "image/png": "[encoded data removed]",
            "text/plain": [
              "<Figure size 432x288 with 1 Axes>"
            ]
          },
          "metadata": {
            "needs_background": "light"
          }
        }
      ],
      "source": [
        "x = [1, 2, 3, 4, 5, 6, 7]\n",
        "y = [3.5, 3.8, 4.2, 4.5, 5, 5.5, 7]\n",
        "plt.plot(t,f,  color='blue', lw=2)\n",
        "plt.axis([0.5, 9.5, -2.5, 2.5])\n",
        "plt.title('График f(t)')\n",
        "plt.xlabel('Значения t')\n",
        "plt.ylabel('Значения f')\n",
        "plt.show()"
      ]
    },
    {
      "cell_type": "markdown",
      "metadata": {
        "id": "i2c3QVz_owhM"
      },
      "source": [
        "### Задание 3 *\n"
      ]
    },
    {
      "cell_type": "code",
      "execution_count": 12,
      "metadata": {
        "scrolled": true,
        "id": "yB-D3oydowhN",
        "outputId": "2fcc8d34-b3c8-474b-cfa9-c7563e907c68",
        "colab": {
          "base_uri": "https://localhost:8080/"
        }
      },
      "outputs": [
        {
          "output_type": "execute_result",
          "data": {
            "text/plain": [
              "array([-3.  , -2.88, -2.76, -2.64, -2.52, -2.4 , -2.28, -2.16, -2.04,\n",
              "       -1.92, -1.8 , -1.68, -1.56, -1.44, -1.32, -1.2 , -1.08, -0.96,\n",
              "       -0.84, -0.72, -0.6 , -0.48, -0.36, -0.24, -0.12,  0.  ,  0.12,\n",
              "        0.24,  0.36,  0.48,  0.6 ,  0.72,  0.84,  0.96,  1.08,  1.2 ,\n",
              "        1.32,  1.44,  1.56,  1.68,  1.8 ,  1.92,  2.04,  2.16,  2.28,\n",
              "        2.4 ,  2.52,  2.64,  2.76,  2.88,  3.  ])"
            ]
          },
          "metadata": {},
          "execution_count": 12
        }
      ],
      "source": [
        "x = np.linspace(-3,3,51)\n",
        "x"
      ]
    },
    {
      "cell_type": "code",
      "execution_count": 13,
      "metadata": {
        "scrolled": true,
        "id": "ud0Ek4QbowhN",
        "outputId": "01a06d1a-5595-4332-ec72-590b1bb486c5",
        "colab": {
          "base_uri": "https://localhost:8080/"
        }
      },
      "outputs": [
        {
          "output_type": "stream",
          "name": "stdout",
          "text": [
            "y1:\n",
            " [-6.   -5.76 -5.52 -5.28 -5.04 -4.8  -4.56 -4.32 -4.08 -3.84 -3.6  -3.36\n",
            " -3.12 -2.88 -2.64 -2.4  -2.16 -1.92 -1.68 -1.44 -1.2  -0.96 -0.72 -0.48\n",
            " -0.24  0.    0.24  0.48  0.72  0.96  1.2   1.44  1.68  1.92  2.16  2.4\n",
            "  2.64  2.88  3.12  3.36  3.6   3.84  4.08  4.32  4.56  4.8   5.04  5.28\n",
            "  5.52  5.76  6.  ]\n",
            "\n",
            "y2:\n",
            " [-5.5  -5.26 -5.02 -4.78 -4.54 -4.3  -4.06 -3.82 -3.58 -3.34 -3.1  -2.86\n",
            " -2.62 -2.38 -2.14 -1.9  -1.66 -1.42 -1.18 -0.94 -0.7  -0.46 -0.22  0.02\n",
            "  0.26  0.5   0.74  0.98  1.22  1.46  1.7   1.94  2.18  2.42  2.66  2.9\n",
            "  3.14  3.38  3.62  3.86  4.1   4.34  4.58  4.82  5.06  5.3   5.54  5.78\n",
            "  6.02  6.26  6.5 ]\n",
            "\n",
            "y3:\n",
            " [  7.5    7.14   6.78   6.42   6.06   5.7    5.34   4.98   4.62   4.26\n",
            "   3.9    3.54   3.18   2.82   2.46   2.1    1.74   1.38   1.02   0.66\n",
            "   0.3   -0.06  -0.42  -0.78  -1.14  -1.5   -1.86  -2.22  -2.58  -2.94\n",
            "  -3.3   -3.66  -4.02  -4.38  -4.74  -5.1   -5.46  -5.82  -6.18  -6.54\n",
            "  -6.9   -7.26  -7.62  -7.98  -8.34  -8.7   -9.06  -9.42  -9.78 -10.14\n",
            " -10.5 ]\n",
            "\n",
            "y4:\n",
            " [-0.14112001 -0.25861935 -0.37239904 -0.48082261 -0.58233065 -0.67546318\n",
            " -0.75888071 -0.83138346 -0.89192865 -0.93964547 -0.97384763 -0.9940432\n",
            " -0.99994172 -0.99145835 -0.9687151  -0.93203909 -0.88195781 -0.81919157\n",
            " -0.74464312 -0.65938467 -0.56464247 -0.46177918 -0.35227423 -0.23770263\n",
            " -0.11971221  0.          0.11971221  0.23770263  0.35227423  0.46177918\n",
            "  0.56464247  0.65938467  0.74464312  0.81919157  0.88195781  0.93203909\n",
            "  0.9687151   0.99145835  0.99994172  0.9940432   0.97384763  0.93964547\n",
            "  0.89192865  0.83138346  0.75888071  0.67546318  0.58233065  0.48082261\n",
            "  0.37239904  0.25861935  0.14112001]\n",
            "\n"
          ]
        }
      ],
      "source": [
        "y1 = x * 2\n",
        "y2 = 2 * x + 0.5\n",
        "y3 = -3 * x - 1.5\n",
        "y4 = np.sin(x)\n",
        "print(f\"y1:\\n {y1}\\n\")\n",
        "print(f\"y2:\\n {y2}\\n\")\n",
        "print(f\"y3:\\n {y3}\\n\")\n",
        "print(f\"y4:\\n {y4}\\n\")"
      ]
    },
    {
      "cell_type": "code",
      "execution_count": 14,
      "metadata": {
        "id": "2Y4N7tB_owhN",
        "outputId": "d478296e-66b3-4b3a-980e-2849ef072227",
        "colab": {
          "base_uri": "https://localhost:8080/",
          "height": 390
        }
      },
      "outputs": [
        {
          "output_type": "display_data",
          "data": {
            "image/png": "[encoded data removed]",
            "text/plain": [
              "<Figure size 576x432 with 4 Axes>"
            ]
          },
          "metadata": {
            "needs_background": "light"
          }
        }
      ],
      "source": [
        "fig, ax = plt.subplots(nrows=2, ncols=2)\n",
        "ax1, ax2, ax3, ax4 = ax.flatten()\n",
        "ax1.plot(x, y1)\n",
        "ax1.set_title('График y1')\n",
        "ax2.plot(x, y2)\n",
        "ax2.set_title('График y2')\n",
        "ax3.plot(x, y3)\n",
        "ax3.set_title('График y3')\n",
        "ax4.plot(x, y4)\n",
        "ax4.set_title('График y4')\n",
        "fig.set_size_inches(8, 6)\n",
        "plt.subplots_adjust(wspace=0.3, hspace=0.3)\n"
      ]
    },
    {
      "cell_type": "markdown",
      "metadata": {
        "id": "Y-5C42avowhN"
      },
      "source": [
        "### Задание 4 *\n"
      ]
    },
    {
      "cell_type": "code",
      "execution_count": 15,
      "metadata": {
        "id": "ls4N3nEtowhN"
      },
      "outputs": [],
      "source": [
        "import pandas as pd"
      ]
    },
    {
      "cell_type": "code",
      "execution_count": 24,
      "metadata": {
        "scrolled": true,
        "id": "vqvSL3puowhO",
        "outputId": "efd111b2-3af8-4c9a-8847-5e9ed9534444",
        "colab": {
          "base_uri": "https://localhost:8080/",
          "height": 364
        }
      },
      "outputs": [
        {
          "output_type": "execute_result",
          "data": {
            "text/html": [
              "\n",
              "  <div id=\"df-e689aeb4-0a62-4d42-8eb8-e89e42942cc8\">\n",
              "    <div class=\"colab-df-container\">\n",
              "      <div>\n",
              "<style scoped>\n",
              "    .dataframe tbody tr th:only-of-type {\n",
              "        vertical-align: middle;\n",
              "    }\n",
              "\n",
              "    .dataframe tbody tr th {\n",
              "        vertical-align: top;\n",
              "    }\n",
              "\n",
              "    .dataframe thead th {\n",
              "        text-align: right;\n",
              "    }\n",
              "</style>\n",
              "<table border=\"1\" class=\"dataframe\">\n",
              "  <thead>\n",
              "    <tr style=\"text-align: right;\">\n",
              "      <th></th>\n",
              "      <th>Time</th>\n",
              "      <th>V1</th>\n",
              "      <th>V2</th>\n",
              "      <th>V3</th>\n",
              "      <th>V4</th>\n",
              "      <th>V5</th>\n",
              "      <th>V6</th>\n",
              "      <th>V7</th>\n",
              "      <th>V8</th>\n",
              "      <th>V9</th>\n",
              "      <th>V10</th>\n",
              "      <th>V11</th>\n",
              "      <th>V12</th>\n",
              "      <th>V13</th>\n",
              "      <th>V14</th>\n",
              "      <th>V15</th>\n",
              "      <th>V16</th>\n",
              "      <th>V17</th>\n",
              "      <th>V18</th>\n",
              "      <th>V19</th>\n",
              "      <th>V20</th>\n",
              "      <th>V21</th>\n",
              "      <th>V22</th>\n",
              "      <th>V23</th>\n",
              "      <th>V24</th>\n",
              "      <th>V25</th>\n",
              "      <th>V26</th>\n",
              "      <th>V27</th>\n",
              "      <th>V28</th>\n",
              "      <th>Amount</th>\n",
              "      <th>Class</th>\n",
              "    </tr>\n",
              "  </thead>\n",
              "  <tbody>\n",
              "    <tr>\n",
              "      <th>count</th>\n",
              "      <td>132784.000000</td>\n",
              "      <td>132784.000000</td>\n",
              "      <td>132784.000000</td>\n",
              "      <td>132784.000000</td>\n",
              "      <td>132784.000000</td>\n",
              "      <td>132784.000000</td>\n",
              "      <td>132784.000000</td>\n",
              "      <td>132784.000000</td>\n",
              "      <td>132784.000000</td>\n",
              "      <td>132784.000000</td>\n",
              "      <td>132784.000000</td>\n",
              "      <td>132784.000000</td>\n",
              "      <td>132784.000000</td>\n",
              "      <td>132784.000000</td>\n",
              "      <td>132784.000000</td>\n",
              "      <td>132784.000000</td>\n",
              "      <td>132784.000000</td>\n",
              "      <td>132784.000000</td>\n",
              "      <td>132784.000000</td>\n",
              "      <td>132784.000000</td>\n",
              "      <td>132784.000000</td>\n",
              "      <td>132784.000000</td>\n",
              "      <td>132784.000000</td>\n",
              "      <td>132784.000000</td>\n",
              "      <td>132784.000000</td>\n",
              "      <td>132784.000000</td>\n",
              "      <td>132783.000000</td>\n",
              "      <td>132783.000000</td>\n",
              "      <td>132783.000000</td>\n",
              "      <td>132783.000000</td>\n",
              "      <td>132783.000000</td>\n",
              "    </tr>\n",
              "    <tr>\n",
              "      <th>mean</th>\n",
              "      <td>50235.524581</td>\n",
              "      <td>-0.244860</td>\n",
              "      <td>0.002637</td>\n",
              "      <td>0.677243</td>\n",
              "      <td>0.141818</td>\n",
              "      <td>-0.285513</td>\n",
              "      <td>0.079162</td>\n",
              "      <td>-0.117917</td>\n",
              "      <td>0.062417</td>\n",
              "      <td>-0.085080</td>\n",
              "      <td>-0.020607</td>\n",
              "      <td>0.216522</td>\n",
              "      <td>0.009876</td>\n",
              "      <td>-0.017802</td>\n",
              "      <td>0.032951</td>\n",
              "      <td>0.221154</td>\n",
              "      <td>-0.008342</td>\n",
              "      <td>0.046639</td>\n",
              "      <td>-0.086790</td>\n",
              "      <td>-0.018301</td>\n",
              "      <td>0.041696</td>\n",
              "      <td>-0.037759</td>\n",
              "      <td>-0.115958</td>\n",
              "      <td>-0.034281</td>\n",
              "      <td>0.012424</td>\n",
              "      <td>0.131027</td>\n",
              "      <td>0.022938</td>\n",
              "      <td>0.000950</td>\n",
              "      <td>0.002424</td>\n",
              "      <td>92.200265</td>\n",
              "      <td>0.001973</td>\n",
              "    </tr>\n",
              "    <tr>\n",
              "      <th>std</th>\n",
              "      <td>20198.729625</td>\n",
              "      <td>1.823137</td>\n",
              "      <td>1.621493</td>\n",
              "      <td>1.274184</td>\n",
              "      <td>1.328062</td>\n",
              "      <td>1.315753</td>\n",
              "      <td>1.285315</td>\n",
              "      <td>1.172618</td>\n",
              "      <td>1.208628</td>\n",
              "      <td>1.094425</td>\n",
              "      <td>1.050471</td>\n",
              "      <td>1.050433</td>\n",
              "      <td>1.034628</td>\n",
              "      <td>1.006066</td>\n",
              "      <td>0.924487</td>\n",
              "      <td>0.928053</td>\n",
              "      <td>0.881851</td>\n",
              "      <td>0.892823</td>\n",
              "      <td>0.835634</td>\n",
              "      <td>0.809562</td>\n",
              "      <td>0.727246</td>\n",
              "      <td>0.719933</td>\n",
              "      <td>0.635717</td>\n",
              "      <td>0.601327</td>\n",
              "      <td>0.594514</td>\n",
              "      <td>0.438204</td>\n",
              "      <td>0.492423</td>\n",
              "      <td>0.390784</td>\n",
              "      <td>0.310872</td>\n",
              "      <td>250.199971</td>\n",
              "      <td>0.044376</td>\n",
              "    </tr>\n",
              "    <tr>\n",
              "      <th>min</th>\n",
              "      <td>0.000000</td>\n",
              "      <td>-56.407510</td>\n",
              "      <td>-72.715728</td>\n",
              "      <td>-33.680984</td>\n",
              "      <td>-5.519697</td>\n",
              "      <td>-42.147898</td>\n",
              "      <td>-26.160506</td>\n",
              "      <td>-31.764946</td>\n",
              "      <td>-73.216718</td>\n",
              "      <td>-9.283925</td>\n",
              "      <td>-18.271168</td>\n",
              "      <td>-4.049895</td>\n",
              "      <td>-17.769143</td>\n",
              "      <td>-5.791881</td>\n",
              "      <td>-19.214325</td>\n",
              "      <td>-4.152532</td>\n",
              "      <td>-13.563273</td>\n",
              "      <td>-25.162799</td>\n",
              "      <td>-9.498746</td>\n",
              "      <td>-7.213527</td>\n",
              "      <td>-21.024817</td>\n",
              "      <td>-34.830382</td>\n",
              "      <td>-10.933144</td>\n",
              "      <td>-44.807735</td>\n",
              "      <td>-2.836627</td>\n",
              "      <td>-10.295397</td>\n",
              "      <td>-2.534330</td>\n",
              "      <td>-22.565679</td>\n",
              "      <td>-11.710896</td>\n",
              "      <td>0.000000</td>\n",
              "      <td>0.000000</td>\n",
              "    </tr>\n",
              "    <tr>\n",
              "      <th>25%</th>\n",
              "      <td>37127.000000</td>\n",
              "      <td>-1.016455</td>\n",
              "      <td>-0.573371</td>\n",
              "      <td>0.173648</td>\n",
              "      <td>-0.717461</td>\n",
              "      <td>-0.908689</td>\n",
              "      <td>-0.660498</td>\n",
              "      <td>-0.605836</td>\n",
              "      <td>-0.132220</td>\n",
              "      <td>-0.713788</td>\n",
              "      <td>-0.492168</td>\n",
              "      <td>-0.543275</td>\n",
              "      <td>-0.393221</td>\n",
              "      <td>-0.679046</td>\n",
              "      <td>-0.343020</td>\n",
              "      <td>-0.318735</td>\n",
              "      <td>-0.477914</td>\n",
              "      <td>-0.407365</td>\n",
              "      <td>-0.553323</td>\n",
              "      <td>-0.507643</td>\n",
              "      <td>-0.169980</td>\n",
              "      <td>-0.225642</td>\n",
              "      <td>-0.544815</td>\n",
              "      <td>-0.172561</td>\n",
              "      <td>-0.323385</td>\n",
              "      <td>-0.134965</td>\n",
              "      <td>-0.326321</td>\n",
              "      <td>-0.060140</td>\n",
              "      <td>-0.004082</td>\n",
              "      <td>6.085000</td>\n",
              "      <td>0.000000</td>\n",
              "    </tr>\n",
              "    <tr>\n",
              "      <th>50%</th>\n",
              "      <td>52028.500000</td>\n",
              "      <td>-0.258119</td>\n",
              "      <td>0.094241</td>\n",
              "      <td>0.753104</td>\n",
              "      <td>0.167537</td>\n",
              "      <td>-0.318044</td>\n",
              "      <td>-0.174817</td>\n",
              "      <td>-0.066735</td>\n",
              "      <td>0.079190</td>\n",
              "      <td>-0.149154</td>\n",
              "      <td>-0.096597</td>\n",
              "      <td>0.131659</td>\n",
              "      <td>0.154895</td>\n",
              "      <td>-0.021606</td>\n",
              "      <td>0.062324</td>\n",
              "      <td>0.331986</td>\n",
              "      <td>0.070279</td>\n",
              "      <td>-0.017670</td>\n",
              "      <td>-0.085637</td>\n",
              "      <td>-0.018892</td>\n",
              "      <td>-0.026866</td>\n",
              "      <td>-0.058520</td>\n",
              "      <td>-0.092197</td>\n",
              "      <td>-0.045627</td>\n",
              "      <td>0.068930</td>\n",
              "      <td>0.168569</td>\n",
              "      <td>-0.067111</td>\n",
              "      <td>0.011751</td>\n",
              "      <td>0.023597</td>\n",
              "      <td>24.320000</td>\n",
              "      <td>0.000000</td>\n",
              "    </tr>\n",
              "    <tr>\n",
              "      <th>75%</th>\n",
              "      <td>67190.000000</td>\n",
              "      <td>1.158425</td>\n",
              "      <td>0.763325</td>\n",
              "      <td>1.367501</td>\n",
              "      <td>0.998507</td>\n",
              "      <td>0.236329</td>\n",
              "      <td>0.465882</td>\n",
              "      <td>0.408836</td>\n",
              "      <td>0.370311</td>\n",
              "      <td>0.496916</td>\n",
              "      <td>0.427912</td>\n",
              "      <td>1.036802</td>\n",
              "      <td>0.643872</td>\n",
              "      <td>0.646165</td>\n",
              "      <td>0.459008</td>\n",
              "      <td>0.890550</td>\n",
              "      <td>0.533137</td>\n",
              "      <td>0.435510</td>\n",
              "      <td>0.387523</td>\n",
              "      <td>0.478361</td>\n",
              "      <td>0.165137</td>\n",
              "      <td>0.114636</td>\n",
              "      <td>0.303344</td>\n",
              "      <td>0.082637</td>\n",
              "      <td>0.408652</td>\n",
              "      <td>0.419724</td>\n",
              "      <td>0.288427</td>\n",
              "      <td>0.086667</td>\n",
              "      <td>0.077093</td>\n",
              "      <td>82.070000</td>\n",
              "      <td>0.000000</td>\n",
              "    </tr>\n",
              "    <tr>\n",
              "      <th>max</th>\n",
              "      <td>80110.000000</td>\n",
              "      <td>1.960497</td>\n",
              "      <td>18.902453</td>\n",
              "      <td>9.382558</td>\n",
              "      <td>16.715537</td>\n",
              "      <td>34.801666</td>\n",
              "      <td>22.529298</td>\n",
              "      <td>36.677268</td>\n",
              "      <td>20.007208</td>\n",
              "      <td>15.594995</td>\n",
              "      <td>23.745136</td>\n",
              "      <td>12.018913</td>\n",
              "      <td>7.848392</td>\n",
              "      <td>4.465413</td>\n",
              "      <td>10.526766</td>\n",
              "      <td>5.784514</td>\n",
              "      <td>6.098529</td>\n",
              "      <td>9.253526</td>\n",
              "      <td>5.041069</td>\n",
              "      <td>5.228342</td>\n",
              "      <td>39.420904</td>\n",
              "      <td>27.202839</td>\n",
              "      <td>10.503090</td>\n",
              "      <td>19.002942</td>\n",
              "      <td>4.016342</td>\n",
              "      <td>5.541598</td>\n",
              "      <td>3.517346</td>\n",
              "      <td>12.152401</td>\n",
              "      <td>33.847808</td>\n",
              "      <td>19656.530000</td>\n",
              "      <td>1.000000</td>\n",
              "    </tr>\n",
              "  </tbody>\n",
              "</table>\n",
              "</div>\n",
              "      <button class=\"colab-df-convert\" onclick=\"convertToInteractive('df-e689aeb4-0a62-4d42-8eb8-e89e42942cc8')\"\n",
              "              title=\"Convert this dataframe to an interactive table.\"\n",
              "              style=\"display:none;\">\n",
              "        \n",
              "  <svg xmlns=\"http://www.w3.org/2000/svg\" height=\"24px\"viewBox=\"0 0 24 24\"\n",
              "       width=\"24px\">\n",
              "    <path d=\"M0 0h24v24H0V0z\" fill=\"none\"/>\n",
              "    <path d=\"M18.56 5.44l.94 2.06.94-2.06 2.06-.94-2.06-.94-.94-2.06-.94 2.06-2.06.94zm-11 1L8.5 8.5l.94-2.06 2.06-.94-2.06-.94L8.5 2.5l-.94 2.06-2.06.94zm10 10l.94 2.06.94-2.06 2.06-.94-2.06-.94-.94-2.06-.94 2.06-2.06.94z\"/><path d=\"M17.41 7.96l-1.37-1.37c-.4-.4-.92-.59-1.43-.59-.52 0-1.04.2-1.43.59L10.3 9.45l-7.72 7.72c-.78.78-.78 2.05 0 2.83L4 21.41c.39.39.9.59 1.41.59.51 0 1.02-.2 1.41-.59l7.78-7.78 2.81-2.81c.8-.78.8-2.07 0-2.86zM5.41 20L4 18.59l7.72-7.72 1.47 1.35L5.41 20z\"/>\n",
              "  </svg>\n",
              "      </button>\n",
              "      \n",
              "  <style>\n",
              "    .colab-df-container {\n",
              "      display:flex;\n",
              "      flex-wrap:wrap;\n",
              "      gap: 12px;\n",
              "    }\n",
              "\n",
              "    .colab-df-convert {\n",
              "      background-color: #E8F0FE;\n",
              "      border: none;\n",
              "      border-radius: 50%;\n",
              "      cursor: pointer;\n",
              "      display: none;\n",
              "      fill: #1967D2;\n",
              "      height: 32px;\n",
              "      padding: 0 0 0 0;\n",
              "      width: 32px;\n",
              "    }\n",
              "\n",
              "    .colab-df-convert:hover {\n",
              "      background-color: #E2EBFA;\n",
              "      box-shadow: 0px 1px 2px rgba(60, 64, 67, 0.3), 0px 1px 3px 1px rgba(60, 64, 67, 0.15);\n",
              "      fill: #174EA6;\n",
              "    }\n",
              "\n",
              "    [theme=dark] .colab-df-convert {\n",
              "      background-color: #3B4455;\n",
              "      fill: #D2E3FC;\n",
              "    }\n",
              "\n",
              "    [theme=dark] .colab-df-convert:hover {\n",
              "      background-color: #434B5C;\n",
              "      box-shadow: 0px 1px 3px 1px rgba(0, 0, 0, 0.15);\n",
              "      filter: drop-shadow(0px 1px 2px rgba(0, 0, 0, 0.3));\n",
              "      fill: #FFFFFF;\n",
              "    }\n",
              "  </style>\n",
              "\n",
              "      <script>\n",
              "        const buttonEl =\n",
              "          document.querySelector('#df-e689aeb4-0a62-4d42-8eb8-e89e42942cc8 button.colab-df-convert');\n",
              "        buttonEl.style.display =\n",
              "          google.colab.kernel.accessAllowed ? 'block' : 'none';\n",
              "\n",
              "        async function convertToInteractive(key) {\n",
              "          const element = document.querySelector('#df-e689aeb4-0a62-4d42-8eb8-e89e42942cc8');\n",
              "          const dataTable =\n",
              "            await google.colab.kernel.invokeFunction('convertToInteractive',\n",
              "                                                     [key], {});\n",
              "          if (!dataTable) return;\n",
              "\n",
              "          const docLinkHtml = 'Like what you see? Visit the ' +\n",
              "            '<a target=\"_blank\" href=https://colab.research.google.com/notebooks/data_table.ipynb>data table notebook</a>'\n",
              "            + ' to learn more about interactive tables.';\n",
              "          element.innerHTML = '';\n",
              "          dataTable['output_type'] = 'display_data';\n",
              "          await google.colab.output.renderOutput(dataTable, element);\n",
              "          const docLink = document.createElement('div');\n",
              "          docLink.innerHTML = docLinkHtml;\n",
              "          element.appendChild(docLink);\n",
              "        }\n",
              "      </script>\n",
              "    </div>\n",
              "  </div>\n",
              "  "
            ],
            "text/plain": [
              "                Time             V1  ...         Amount          Class\n",
              "count  132784.000000  132784.000000  ...  132783.000000  132783.000000\n",
              "mean    50235.524581      -0.244860  ...      92.200265       0.001973\n",
              "std     20198.729625       1.823137  ...     250.199971       0.044376\n",
              "min         0.000000     -56.407510  ...       0.000000       0.000000\n",
              "25%     37127.000000      -1.016455  ...       6.085000       0.000000\n",
              "50%     52028.500000      -0.258119  ...      24.320000       0.000000\n",
              "75%     67190.000000       1.158425  ...      82.070000       0.000000\n",
              "max     80110.000000       1.960497  ...   19656.530000       1.000000\n",
              "\n",
              "[8 rows x 31 columns]"
            ]
          },
          "metadata": {},
          "execution_count": 24
        }
      ],
      "source": [
        "df = pd.read_csv('creditcard.csv', sep=',')\n",
        "df.describe()"
      ]
    },
    {
      "cell_type": "code",
      "source": [
        "from google.colab import drive\n",
        "drive.mount('/content/drive')"
      ],
      "metadata": {
        "colab": {
          "base_uri": "https://localhost:8080/"
        },
        "id": "AKzzY1j8qEd1",
        "outputId": "eb484a2b-9d98-4eee-8dd8-8e8358e107fd"
      },
      "execution_count": 18,
      "outputs": [
        {
          "output_type": "stream",
          "name": "stdout",
          "text": [
            "Mounted at /content/drive\n"
          ]
        }
      ]
    },
    {
      "cell_type": "code",
      "execution_count": 20,
      "metadata": {
        "id": "l08bUoFHowhO",
        "outputId": "8475e06a-8881-409e-c996-cf9b649bd0f9",
        "colab": {
          "base_uri": "https://localhost:8080/"
        }
      },
      "outputs": [
        {
          "output_type": "execute_result",
          "data": {
            "text/plain": [
              "0.0    104834\n",
              "1.0       232\n",
              "Name: Class, dtype: int64"
            ]
          },
          "metadata": {},
          "execution_count": 20
        }
      ],
      "source": [
        "df['Class'].value_counts()"
      ]
    },
    {
      "cell_type": "code",
      "execution_count": 21,
      "metadata": {
        "id": "1hV_Dt5fowhO",
        "outputId": "09c10490-e369-48b1-d915-f06b44bb88ac",
        "colab": {
          "base_uri": "https://localhost:8080/",
          "height": 290
        }
      },
      "outputs": [
        {
          "output_type": "display_data",
          "data": {
            "image/png": "[encoded data removed]",
            "text/plain": [
              "<Figure size 432x288 with 1 Axes>"
            ]
          },
          "metadata": {}
        }
      ],
      "source": [
        "cls = df['Class'].value_counts()\n",
        "plt.style.use('fivethirtyeight')\n",
        "cls.plot(kind='bar')\n",
        "plt.show()"
      ]
    },
    {
      "cell_type": "code",
      "execution_count": 22,
      "metadata": {
        "id": "GWMhi-W3owhO",
        "outputId": "4fe82655-ed44-41cb-effe-b0109e7ccb88",
        "colab": {
          "base_uri": "https://localhost:8080/",
          "height": 290
        }
      },
      "outputs": [
        {
          "output_type": "display_data",
          "data": {
            "image/png": "[encoded data removed]",
            "text/plain": [
              "<Figure size 432x288 with 1 Axes>"
            ]
          },
          "metadata": {}
        }
      ],
      "source": [
        "cls.plot(kind='bar', logy=True)\n",
        "plt.show()"
      ]
    },
    {
      "cell_type": "code",
      "execution_count": 23,
      "metadata": {
        "id": "932RTl7QowhO",
        "outputId": "d96a2490-3553-482d-9eab-b2b58ac53116",
        "colab": {
          "base_uri": "https://localhost:8080/",
          "height": 309
        }
      },
      "outputs": [
        {
          "output_type": "display_data",
          "data": {
            "image/png": "[encoded data removed]",
            "text/plain": [
              "<Figure size 432x288 with 1 Axes>"
            ]
          },
          "metadata": {}
        }
      ],
      "source": [
        "df1 = df.loc[df['Class'] == 1, 'V1']\n",
        "df2 = df.loc[df['Class'] == 0, 'V1']\n",
        "\n",
        "opacity = 0.5\n",
        "n_groups = 20\n",
        "\n",
        "class_0 = plt.hist(df2, bins=n_groups, ec='black',\n",
        "color='gray',\n",
        "alpha=opacity,\n",
        "label = 'Class 0',\n",
        "density=1)\n",
        "\n",
        "class_1 = plt.hist(df1, bins=n_groups, ec='gray',\n",
        "color='red',\n",
        "alpha=opacity,\n",
        "label = 'Class 1',\n",
        "density=1)\n",
        "\n",
        "plt.axis([-35, 5, 0, 0.25])\n",
        "plt.xlabel('Class')\n",
        "plt.legend()\n",
        "\n",
        "plt.show()"
      ]
    },
    {
      "cell_type": "code",
      "execution_count": null,
      "metadata": {
        "id": "mNUxmDOpowhO"
      },
      "outputs": [],
      "source": [
        ""
      ]
    }
  ],
  "metadata": {
    "kernelspec": {
      "display_name": "Python 3",
      "language": "python",
      "name": "python3"
    },
    "language_info": {
      "codemirror_mode": {
        "name": "ipython",
        "version": 3
      },
      "file_extension": ".py",
      "mimetype": "text/x-python",
      "name": "python",
      "nbconvert_exporter": "python",
      "pygments_lexer": "ipython3",
      "version": "3.6.5"
    },
    "colab": {
      "name": "Практическое задание к уроку 4",
      "provenance": []
    }
  },
  "nbformat": 4,
  "nbformat_minor": 0
}